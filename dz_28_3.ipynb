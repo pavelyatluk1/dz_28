{
 "cells": [
  {
   "cell_type": "markdown",
   "id": "25687e57",
   "metadata": {},
   "source": [
    "#### Pavlo Yatluk\n",
    "#### dz_28_3"
   ]
  },
  {
   "cell_type": "markdown",
   "id": "81491cf2",
   "metadata": {},
   "source": [
    "### ЗАВДАННЯ"
   ]
  },
  {
   "cell_type": "markdown",
   "id": "9ac43718",
   "metadata": {},
   "source": [
    "### Знайти мінімальний об'єм вибірки, при якому з надійністю $\\gamma = 0,99$ точність оцінки математичного сподівання - $\\alpha$ нормально розподіленої ознаки дорівнює $\\delta = 0,6$, якщо середнє квадратичне відхилення $\\sigma = 3$ "
   ]
  },
  {
   "cell_type": "markdown",
   "id": "40629f28",
   "metadata": {},
   "source": [
    "### ВИРІШЕННЯ"
   ]
  },
  {
   "cell_type": "markdown",
   "id": "ac180dc6",
   "metadata": {},
   "source": [
    "#### 1. Знаходимо параметр _t_ по таблиці для інтегральної функції Лапласа:"
   ]
  },
  {
   "cell_type": "markdown",
   "id": "86ee09b8",
   "metadata": {},
   "source": [
    "### $$\\Phi(t) = \\gamma / 2 = 0,99 / 2 = 0,495$$"
   ]
  },
  {
   "cell_type": "markdown",
   "id": "d9b8643a",
   "metadata": {},
   "source": [
    "### $$t = 2,58$$"
   ]
  },
  {
   "cell_type": "markdown",
   "id": "9e1e564e",
   "metadata": {},
   "source": [
    "#### 2. Розрахуємо об'єм вибірки по формулі:"
   ]
  },
  {
   "cell_type": "markdown",
   "id": "881c6e73",
   "metadata": {},
   "source": [
    "### $$n = \\frac{t^2\\sigma^2}{\\delta^2} = \\frac{2,58^2\\cdot3^2}{0,6^2} = 166,41$$"
   ]
  },
  {
   "cell_type": "markdown",
   "id": "60cc2e57",
   "metadata": {},
   "source": [
    "### ВІДПОВІДЬ"
   ]
  },
  {
   "cell_type": "markdown",
   "id": "9caa1a43",
   "metadata": {},
   "source": [
    "### Об'єм вибірки дорівнює n = 166,41"
   ]
  },
  {
   "cell_type": "code",
   "execution_count": null,
   "id": "8c6fbac1",
   "metadata": {},
   "outputs": [],
   "source": []
  }
 ],
 "metadata": {
  "kernelspec": {
   "display_name": "Python 3 (ipykernel)",
   "language": "python",
   "name": "python3"
  },
  "language_info": {
   "codemirror_mode": {
    "name": "ipython",
    "version": 3
   },
   "file_extension": ".py",
   "mimetype": "text/x-python",
   "name": "python",
   "nbconvert_exporter": "python",
   "pygments_lexer": "ipython3",
   "version": "3.10.8"
  }
 },
 "nbformat": 4,
 "nbformat_minor": 5
}
