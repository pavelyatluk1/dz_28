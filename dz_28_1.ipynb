{
 "cells": [
  {
   "cell_type": "markdown",
   "id": "3299c79a",
   "metadata": {},
   "source": [
    "#### Pavlo Yatluk\n",
    "#### dz_28_1"
   ]
  },
  {
   "cell_type": "markdown",
   "id": "432c441f",
   "metadata": {},
   "source": [
    "### ЗАВДАННЯ"
   ]
  },
  {
   "cell_type": "markdown",
   "id": "7bd1c9ed",
   "metadata": {},
   "source": [
    "### Із генеральної сукупності, розподіленої за нормальним законом, отримано вибірку об'ємом n = 20"
   ]
  },
  {
   "cell_type": "markdown",
   "id": "65250477",
   "metadata": {},
   "source": [
    "|x(i)   |1      |2      |4      |6      |7      |\n",
    "|:---   |:---:  |:---:  |:---:  |:---:  |:---:  |\n",
    "|n(i)   |2      |3      |10     |3      |2      | "
   ]
  },
  {
   "cell_type": "markdown",
   "id": "1e8f9e4d",
   "metadata": {},
   "source": [
    "### Знайти з надійністю _$\\gamma$ = 0,95_ інтервальну оцінку середнього квадратичного відхилення $\\sigma$ генеральної сукупності."
   ]
  },
  {
   "cell_type": "markdown",
   "id": "c8dff49f",
   "metadata": {},
   "source": [
    "### ВИРІШЕННЯ"
   ]
  },
  {
   "cell_type": "markdown",
   "id": "d6f96bc3",
   "metadata": {},
   "source": [
    "#### 1. Маємо формулу для розрахунку довірчого інтервалу"
   ]
  },
  {
   "cell_type": "markdown",
   "id": "04822232",
   "metadata": {},
   "source": [
    "### $$\\overline{x}_b - t_\\gamma\\frac{\\sigma}{\\sqrt{n}} < a < \\overline{x}_b + t_\\gamma\\frac{\\sigma}{\\sqrt{n}}$$"
   ]
  },
  {
   "cell_type": "markdown",
   "id": "9cbab8e0",
   "metadata": {},
   "source": [
    "#### 2. Обчислимо вибіркове середнє:\n"
   ]
  },
  {
   "cell_type": "markdown",
   "id": "c1b40c78",
   "metadata": {},
   "source": [
    "### $$\\overline{x}_b=(1\\cdot2 + 2\\cdot3 + 4\\cdot10 + 6\\cdot3 + 7\\cdot2) \\ /\\ 20 = 4$$"
   ]
  },
  {
   "cell_type": "markdown",
   "id": "4adf2b6e",
   "metadata": {},
   "source": [
    "#### 3. Знаходимо виправлену дисперсію:"
   ]
  },
  {
   "cell_type": "markdown",
   "id": "85a7101f",
   "metadata": {},
   "source": [
    "### $$s^2 = \\frac{1}{n - 1}\\sum_{i=1}^{k}(x_{i} - \\overline{x}_{b}) ^ 2\\ n_{i}$$\n"
   ]
  },
  {
   "cell_type": "markdown",
   "id": "ed359c87",
   "metadata": {},
   "source": [
    "### $$s^2 = \\frac{((1 - 4)^2 \\cdot \\ 2 + (2 - 4)^2 \\cdot \\ 3 + (4 - 4)^2 \\cdot \\ 10 + (6 - 4)^2 \\cdot \\ 3 + (7 - 4)^2 \\cdot \\ 2)}{19} = 3,2$$"
   ]
  },
  {
   "cell_type": "markdown",
   "id": "9a16712d",
   "metadata": {},
   "source": [
    "#### 4. Знаходимо середнє квадратичне відхилення:"
   ]
  },
  {
   "cell_type": "markdown",
   "id": "dc3f2b37",
   "metadata": {},
   "source": [
    "### $$s = \\sqrt{s^2} = \\sqrt{3,2} = 1,79$$"
   ]
  },
  {
   "cell_type": "markdown",
   "id": "284f4d5d",
   "metadata": {},
   "source": [
    "#### 5. Із таблиці знаходимо аргумент функції Лапласа для n = 20 та $\\gamma$ = 0,95:"
   ]
  },
  {
   "cell_type": "markdown",
   "id": "ac4db1f5",
   "metadata": {},
   "source": [
    "### $$t_{\\gamma} = 2,093$$"
   ]
  },
  {
   "cell_type": "markdown",
   "id": "813404ee",
   "metadata": {},
   "source": [
    "#### 6. Знаходимо точність оцінки:"
   ]
  },
  {
   "cell_type": "markdown",
   "id": "0689b737",
   "metadata": {},
   "source": [
    "### $$\\delta = t_{\\gamma}\\frac{s}{\\sqrt{n}} = 2,093 \\cdot \\frac{1,79}{\\sqrt{20}} = 0,84 $$"
   ]
  },
  {
   "cell_type": "markdown",
   "id": "28a94f51",
   "metadata": {},
   "source": [
    "#### 7. Знаходимо кінці довірчого інтервалу:"
   ]
  },
  {
   "cell_type": "markdown",
   "id": "bf2cf6b3",
   "metadata": {},
   "source": [
    "### $$\\overline{x}_b - t_\\gamma\\frac{\\sigma}{\\sqrt{n}} = 4 - 0,84 = 3,16$$"
   ]
  },
  {
   "cell_type": "markdown",
   "id": "4322cf66",
   "metadata": {},
   "source": [
    "### $$\\overline{x}_b + t_\\gamma\\frac{\\sigma}{\\sqrt{n}} = 4 + 0,84 = 4,84$$"
   ]
  },
  {
   "cell_type": "markdown",
   "id": "15728ee7",
   "metadata": {},
   "source": [
    "#### 8. Довірчий інтервал має вигляд:"
   ]
  },
  {
   "cell_type": "markdown",
   "id": "09d79156",
   "metadata": {},
   "source": [
    "### $$3,16 < a < 4,84$$"
   ]
  },
  {
   "cell_type": "markdown",
   "id": "23d5f083",
   "metadata": {},
   "source": [
    "### ВІДПОВІДЬ"
   ]
  },
  {
   "cell_type": "markdown",
   "id": "488639dc",
   "metadata": {},
   "source": [
    "### Довірчий інтервал (3,16 < a < 4,84)  покриває математичне сподівання $\\alpha$  генеральної сукупності  з надійністю $\\gamma$ = 0,95 та точністю оцінки  $\\delta$ = 0,84\n"
   ]
  }
 ],
 "metadata": {
  "kernelspec": {
   "display_name": "Python 3 (ipykernel)",
   "language": "python",
   "name": "python3"
  },
  "language_info": {
   "codemirror_mode": {
    "name": "ipython",
    "version": 3
   },
   "file_extension": ".py",
   "mimetype": "text/x-python",
   "name": "python",
   "nbconvert_exporter": "python",
   "pygments_lexer": "ipython3",
   "version": "3.10.8"
  }
 },
 "nbformat": 4,
 "nbformat_minor": 5
}
