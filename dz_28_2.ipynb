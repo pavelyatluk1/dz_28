{
 "cells": [
  {
   "cell_type": "markdown",
   "id": "8ff29250",
   "metadata": {},
   "source": [
    "#### Pavlo Yatluk\n",
    "#### dz_28_2"
   ]
  },
  {
   "cell_type": "markdown",
   "id": "c2fe547b",
   "metadata": {},
   "source": [
    "### ЗАВДАННЯ"
   ]
  },
  {
   "cell_type": "markdown",
   "id": "e1e53faf",
   "metadata": {},
   "source": [
    "### Знайти з надійністю $\\gamma = 0,95$ інтервальну оцінку для ймовірності настання події А в кожному із n = 100 незалежних повторних випробувань, якщо подія відбулася m = 40 раз."
   ]
  },
  {
   "cell_type": "markdown",
   "id": "7740e1a5",
   "metadata": {},
   "source": [
    "### ВИРІШЕННЯ"
   ]
  },
  {
   "cell_type": "markdown",
   "id": "e9e6afaf",
   "metadata": {},
   "source": [
    "#### 1. Знаходимо параметр _t_ по таблиці для інтегральної функції Лапласа:"
   ]
  },
  {
   "cell_type": "markdown",
   "id": "1a9d2253",
   "metadata": {},
   "source": [
    "### $$\\Phi(t) = \\gamma / 2 = 0,95 / 2 = 0,475$$"
   ]
  },
  {
   "cell_type": "markdown",
   "id": "fa00bc75",
   "metadata": {},
   "source": [
    "### $$t = 1,96$$"
   ]
  },
  {
   "cell_type": "markdown",
   "id": "0c20be62",
   "metadata": {},
   "source": [
    "#### 2. Обчислимо межі довірчого інтервалу за формулою:"
   ]
  },
  {
   "cell_type": "markdown",
   "id": "56a51333",
   "metadata": {},
   "source": [
    "### $$p_1 = \\frac{1}{t^2 + n} \\left(m + \\frac{t^2}{2} - t\\sqrt{\\frac{m(n - m)}{n} + \\frac{t^2}{4}} \\right)$$"
   ]
  },
  {
   "cell_type": "markdown",
   "id": "76236f9c",
   "metadata": {},
   "source": [
    "### $$p_1 = \\frac{1}{1,96^2 + 100}\\left(40 + \\frac{1,96^2}{2} - 1,96\\sqrt{\\frac{40(100 - 40)}{100} + \\frac{1,96^2}{4}} \\right) = 0,31$$ "
   ]
  },
  {
   "cell_type": "markdown",
   "id": "54515e41",
   "metadata": {},
   "source": [
    "### $$p_2 = \\frac{1}{t^2 + n} \\left(m + \\frac{t^2}{2} + t\\sqrt{\\frac{m(n - m)}{n} + \\frac{t^2}{4}} \\right)$$"
   ]
  },
  {
   "cell_type": "markdown",
   "id": "b295e296",
   "metadata": {},
   "source": [
    "### $$p_2 = \\frac{1}{1,96^2 + 100}\\left(40 + \\frac{1,96^2}{2} + 1,96\\sqrt{\\frac{40(100 - 40)}{100} + \\frac{1,96^2}{4}} \\right) = 0,49$$ "
   ]
  },
  {
   "cell_type": "markdown",
   "id": "642a13e5",
   "metadata": {},
   "source": [
    "### ВІДПОВІДЬ"
   ]
  },
  {
   "cell_type": "markdown",
   "id": "dbfab8dd",
   "metadata": {},
   "source": [
    "### Інтервальною оцінкою для ймовірності настання події А буде довірчий інтервал (0,31; 0,49)"
   ]
  }
 ],
 "metadata": {
  "kernelspec": {
   "display_name": "Python 3 (ipykernel)",
   "language": "python",
   "name": "python3"
  },
  "language_info": {
   "codemirror_mode": {
    "name": "ipython",
    "version": 3
   },
   "file_extension": ".py",
   "mimetype": "text/x-python",
   "name": "python",
   "nbconvert_exporter": "python",
   "pygments_lexer": "ipython3",
   "version": "3.10.8"
  }
 },
 "nbformat": 4,
 "nbformat_minor": 5
}
